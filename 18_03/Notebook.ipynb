{
 "cells": [
  {
   "cell_type": "markdown",
   "metadata": {},
   "source": [
    "# PANDAS: The functions apply and agg\n",
    "\n",
    "The difference between the function apply, agg and tranform are quite obscure. In several cases we will get the same result, so we can use the indistinctively. "
   ]
  },
  {
   "cell_type": "code",
   "execution_count": null,
   "metadata": {},
   "outputs": [],
   "source": []
  },
  {
   "cell_type": "markdown",
   "metadata": {},
   "source": [
    "## Initialise the environment"
   ]
  },
  {
   "cell_type": "code",
   "execution_count": 83,
   "metadata": {},
   "outputs": [],
   "source": [
    "import pandas as pd\n",
    "import numpy as np\n",
    "import matplotlib.pyplot as plt\n",
    "import seaborn as sns\n",
    "\n",
    "import time"
   ]
  },
  {
   "cell_type": "code",
   "execution_count": 112,
   "metadata": {},
   "outputs": [],
   "source": [
    "arr = np.array([1,3,4, 5,6,7])\n",
    "s = pd.Series(arr)"
   ]
  },
  {
   "cell_type": "markdown",
   "metadata": {},
   "source": [
    "## Get our data set\n"
   ]
  },
  {
   "cell_type": "markdown",
   "metadata": {},
   "source": [
    "We will analyse data of videogame **sales** during the last decades"
   ]
  },
  {
   "cell_type": "code",
   "execution_count": 12,
   "metadata": {},
   "outputs": [
    {
     "data": {
      "text/html": [
       "<div>\n",
       "<style scoped>\n",
       "    .dataframe tbody tr th:only-of-type {\n",
       "        vertical-align: middle;\n",
       "    }\n",
       "\n",
       "    .dataframe tbody tr th {\n",
       "        vertical-align: top;\n",
       "    }\n",
       "\n",
       "    .dataframe thead th {\n",
       "        text-align: right;\n",
       "    }\n",
       "</style>\n",
       "<table border=\"1\" class=\"dataframe\">\n",
       "  <thead>\n",
       "    <tr style=\"text-align: right;\">\n",
       "      <th></th>\n",
       "      <th>Unnamed: 0</th>\n",
       "      <th>Rank</th>\n",
       "      <th>Name</th>\n",
       "      <th>Platform</th>\n",
       "      <th>Year</th>\n",
       "      <th>Genre</th>\n",
       "      <th>Publisher</th>\n",
       "      <th>NA_Sales</th>\n",
       "      <th>EU_Sales</th>\n",
       "      <th>JP_Sales</th>\n",
       "      <th>Other_Sales</th>\n",
       "    </tr>\n",
       "  </thead>\n",
       "  <tbody>\n",
       "    <tr>\n",
       "      <th>0</th>\n",
       "      <td>0</td>\n",
       "      <td>1</td>\n",
       "      <td>Wii Sports</td>\n",
       "      <td>Wii</td>\n",
       "      <td>2006.0</td>\n",
       "      <td>Sports</td>\n",
       "      <td>Nintendo</td>\n",
       "      <td>41.49</td>\n",
       "      <td>29.02</td>\n",
       "      <td>3.77</td>\n",
       "      <td>8.46</td>\n",
       "    </tr>\n",
       "    <tr>\n",
       "      <th>1</th>\n",
       "      <td>1</td>\n",
       "      <td>2</td>\n",
       "      <td>Super Mario Bros.</td>\n",
       "      <td>NES</td>\n",
       "      <td>1985.0</td>\n",
       "      <td>Platform</td>\n",
       "      <td>Nintendo</td>\n",
       "      <td>29.08</td>\n",
       "      <td>3.58</td>\n",
       "      <td>6.81</td>\n",
       "      <td>0.77</td>\n",
       "    </tr>\n",
       "    <tr>\n",
       "      <th>2</th>\n",
       "      <td>2</td>\n",
       "      <td>3</td>\n",
       "      <td>Mario Kart Wii</td>\n",
       "      <td>Wii</td>\n",
       "      <td>2008.0</td>\n",
       "      <td>Racing</td>\n",
       "      <td>Nintendo</td>\n",
       "      <td>15.85</td>\n",
       "      <td>12.88</td>\n",
       "      <td>3.79</td>\n",
       "      <td>3.31</td>\n",
       "    </tr>\n",
       "    <tr>\n",
       "      <th>3</th>\n",
       "      <td>3</td>\n",
       "      <td>4</td>\n",
       "      <td>Wii Sports Resort</td>\n",
       "      <td>Wii</td>\n",
       "      <td>2009.0</td>\n",
       "      <td>Sports</td>\n",
       "      <td>Nintendo</td>\n",
       "      <td>15.75</td>\n",
       "      <td>11.01</td>\n",
       "      <td>3.28</td>\n",
       "      <td>2.96</td>\n",
       "    </tr>\n",
       "    <tr>\n",
       "      <th>4</th>\n",
       "      <td>4</td>\n",
       "      <td>5</td>\n",
       "      <td>Pokemon Red/Pokemon Blue</td>\n",
       "      <td>GB</td>\n",
       "      <td>1996.0</td>\n",
       "      <td>Role-Playing</td>\n",
       "      <td>Nintendo</td>\n",
       "      <td>11.27</td>\n",
       "      <td>8.89</td>\n",
       "      <td>10.22</td>\n",
       "      <td>1.00</td>\n",
       "    </tr>\n",
       "  </tbody>\n",
       "</table>\n",
       "</div>"
      ],
      "text/plain": [
       "   Unnamed: 0  Rank                      Name Platform    Year         Genre  \\\n",
       "0           0     1                Wii Sports      Wii  2006.0        Sports   \n",
       "1           1     2         Super Mario Bros.      NES  1985.0      Platform   \n",
       "2           2     3            Mario Kart Wii      Wii  2008.0        Racing   \n",
       "3           3     4         Wii Sports Resort      Wii  2009.0        Sports   \n",
       "4           4     5  Pokemon Red/Pokemon Blue       GB  1996.0  Role-Playing   \n",
       "\n",
       "  Publisher  NA_Sales  EU_Sales  JP_Sales  Other_Sales  \n",
       "0  Nintendo     41.49     29.02      3.77         8.46  \n",
       "1  Nintendo     29.08      3.58      6.81         0.77  \n",
       "2  Nintendo     15.85     12.88      3.79         3.31  \n",
       "3  Nintendo     15.75     11.01      3.28         2.96  \n",
       "4  Nintendo     11.27      8.89     10.22         1.00  "
      ]
     },
     "execution_count": 12,
     "metadata": {},
     "output_type": "execute_result"
    }
   ],
   "source": [
    "df = pd.read_csv(\"vgsales.csv\")\n",
    "df.head()"
   ]
  },
  {
   "cell_type": "code",
   "execution_count": 87,
   "metadata": {},
   "outputs": [
    {
     "data": {
      "text/plain": [
       "(16598, 12)"
      ]
     },
     "execution_count": 87,
     "metadata": {},
     "output_type": "execute_result"
    }
   ],
   "source": [
    "df.shape"
   ]
  },
  {
   "cell_type": "markdown",
   "metadata": {},
   "source": [
    "Let us observe the attributes"
   ]
  },
  {
   "cell_type": "code",
   "execution_count": 13,
   "metadata": {},
   "outputs": [
    {
     "data": {
      "text/plain": [
       "Unnamed: 0       int64\n",
       "Rank             int64\n",
       "Name            object\n",
       "Platform        object\n",
       "Year           float64\n",
       "Genre           object\n",
       "Publisher       object\n",
       "NA_Sales       float64\n",
       "EU_Sales       float64\n",
       "JP_Sales       float64\n",
       "Other_Sales    float64\n",
       "dtype: object"
      ]
     },
     "execution_count": 13,
     "metadata": {},
     "output_type": "execute_result"
    }
   ],
   "source": [
    "df.dtypes"
   ]
  },
  {
   "cell_type": "markdown",
   "metadata": {},
   "source": [
    "## Tha apply function vs the agg function"
   ]
  },
  {
   "cell_type": "markdown",
   "metadata": {},
   "source": [
    "Let us answer to the following questions:\n",
    "\n",
    "#### 1. What is the total number of sales (for all regions) per game"
   ]
  },
  {
   "cell_type": "markdown",
   "metadata": {},
   "source": [
    "Let us use the normal panda operations to compute this value"
   ]
  },
  {
   "cell_type": "code",
   "execution_count": 85,
   "metadata": {},
   "outputs": [
    {
     "name": "stdout",
     "output_type": "stream",
     "text": [
      "0.01090199999998731\n"
     ]
    }
   ],
   "source": [
    "t = time.process_time()\n",
    "data1 = df.copy()\n",
    "data1[\"Global_Sales\"] = data1[\"NA_Sales\"] + data1[\"EU_Sales\"] + data1[\"JP_Sales\"] + data1[\"Other_Sales\"]\n",
    "print(time.process_time() - t)"
   ]
  },
  {
   "cell_type": "markdown",
   "metadata": {},
   "source": [
    "Let us use the apply function"
   ]
  },
  {
   "cell_type": "code",
   "execution_count": 86,
   "metadata": {},
   "outputs": [
    {
     "name": "stdout",
     "output_type": "stream",
     "text": [
      "1.7178399999999954\n"
     ]
    }
   ],
   "source": [
    "t = time.process_time()\n",
    "def total(line):\n",
    "    return line.NA_Sales + line.EU_Sales + line.JP_Sales + line.Other_Sales\n",
    "\n",
    "data2 = df.copy()\n",
    "data2.loc[:, \"Global_Sales\"] = data1.apply(total, axis=1)\n",
    "print(time.process_time() - t)"
   ]
  },
  {
   "cell_type": "markdown",
   "metadata": {},
   "source": [
    "Another way:"
   ]
  },
  {
   "cell_type": "code",
   "execution_count": 90,
   "metadata": {},
   "outputs": [
    {
     "name": "stdout",
     "output_type": "stream",
     "text": [
      "3.114028000000019\n"
     ]
    }
   ],
   "source": [
    "t = time.process_time()\n",
    "def total(line):\n",
    "    return line.sum()\n",
    "\n",
    "data3 = df.copy()\n",
    "data3.loc[:, \"Global_Sales\"] = data1[[\"NA_Sales\",\"EU_Sales\",\"JP_Sales\",\"Other_Sales\"]].apply(total, axis=1)\n",
    "print(time.process_time() - t)"
   ]
  },
  {
   "cell_type": "markdown",
   "metadata": {},
   "source": [
    "let us use the agg function"
   ]
  },
  {
   "cell_type": "code",
   "execution_count": 93,
   "metadata": {},
   "outputs": [
    {
     "name": "stdout",
     "output_type": "stream",
     "text": [
      "3.686616000000015\n"
     ]
    }
   ],
   "source": [
    "t = time.process_time()\n",
    "def total(line):\n",
    "    return line.NA_Sales + line.EU_Sales + line.JP_Sales + line.Other_Sales\n",
    "\n",
    "data4 = df.copy()\n",
    "data4.loc[:, \"Global_Sales\"] = data1.agg(total, axis=1)\n",
    "print(time.process_time() - t)"
   ]
  },
  {
   "cell_type": "code",
   "execution_count": 35,
   "metadata": {},
   "outputs": [],
   "source": [
    "df = data4.copy()"
   ]
  },
  {
   "cell_type": "markdown",
   "metadata": {},
   "source": [
    "#### 2. What is the percentage of sales per region per game"
   ]
  },
  {
   "cell_type": "code",
   "execution_count": 94,
   "metadata": {},
   "outputs": [
    {
     "name": "stdout",
     "output_type": "stream",
     "text": [
      "0.03122600000000375\n"
     ]
    }
   ],
   "source": [
    "t = time.process_time()\n",
    "data1 = df.copy()\n",
    "data1.loc[:, \"Percentage_JP\"] = (data1[\"JP_Sales\"]/data1[\"Global_Sales\"]).round(2)*100\n",
    "data1.loc[:, \"Percentage_EU\"] = (data1[\"EU_Sales\"]/data1[\"Global_Sales\"]).round(2)*100\n",
    "data1.loc[:, \"Percentage_NA\"] = (data1[\"NA_Sales\"]/data1[\"Global_Sales\"]).round(2)*100\n",
    "print(time.process_time() - t)"
   ]
  },
  {
   "cell_type": "code",
   "execution_count": 99,
   "metadata": {},
   "outputs": [
    {
     "name": "stdout",
     "output_type": "stream",
     "text": [
      "2.802677999999986\n"
     ]
    }
   ],
   "source": [
    "t = time.process_time()\n",
    "def percentage_jp(line):\n",
    "    if line.Global_Sales > 0:\n",
    "        return line.JP_Sales/line.Global_Sales\n",
    "\n",
    "def percentage_na(line):\n",
    "    if line.Global_Sales > 0:\n",
    "        return line.NA_Sales/line.Global_Sales\n",
    "\n",
    "data2 = df.copy()\n",
    "data2.loc[:, \"Percentage_JP\"] = data2.apply(percentage_jp, axis=1)\n",
    "data2.loc[:, \"Percentage_NA\"] = data2.apply(percentage_na, axis=1)\n",
    "print(time.process_time() - t)"
   ]
  },
  {
   "cell_type": "code",
   "execution_count": 102,
   "metadata": {},
   "outputs": [
    {
     "name": "stdout",
     "output_type": "stream",
     "text": [
      "2.647564000000017\n"
     ]
    }
   ],
   "source": [
    "t = time.process_time()\n",
    "def percentage(line, region):\n",
    "    if line.Global_Sales > 0:\n",
    "        return line[region]/line.Global_Sales\n",
    "\n",
    "data2 = df.copy()\n",
    "data2.loc[:, \"Percentage_JP\"] = data2.apply(percentage, axis=1, region=\"JP_Sales\")\n",
    "data2.loc[:, \"Percentage_NA\"] = data2.apply(percentage, axis=1, region=\"NA_Sales\")\n",
    "print(time.process_time() - t)"
   ]
  },
  {
   "cell_type": "code",
   "execution_count": 104,
   "metadata": {},
   "outputs": [
    {
     "name": "stdout",
     "output_type": "stream",
     "text": [
      "7.559401999999977\n"
     ]
    },
    {
     "data": {
      "text/html": [
       "<div>\n",
       "<style scoped>\n",
       "    .dataframe tbody tr th:only-of-type {\n",
       "        vertical-align: middle;\n",
       "    }\n",
       "\n",
       "    .dataframe tbody tr th {\n",
       "        vertical-align: top;\n",
       "    }\n",
       "\n",
       "    .dataframe thead th {\n",
       "        text-align: right;\n",
       "    }\n",
       "</style>\n",
       "<table border=\"1\" class=\"dataframe\">\n",
       "  <thead>\n",
       "    <tr style=\"text-align: right;\">\n",
       "      <th></th>\n",
       "      <th>Unnamed: 0</th>\n",
       "      <th>Rank</th>\n",
       "      <th>Name</th>\n",
       "      <th>Platform</th>\n",
       "      <th>Year</th>\n",
       "      <th>Genre</th>\n",
       "      <th>Publisher</th>\n",
       "      <th>NA_Sales</th>\n",
       "      <th>EU_Sales</th>\n",
       "      <th>JP_Sales</th>\n",
       "      <th>Other_Sales</th>\n",
       "      <th>Global_Sales</th>\n",
       "      <th>Percentage_JP</th>\n",
       "      <th>Percentage_NA</th>\n",
       "      <th>Percentage_EU</th>\n",
       "    </tr>\n",
       "  </thead>\n",
       "  <tbody>\n",
       "    <tr>\n",
       "      <th>0</th>\n",
       "      <td>0</td>\n",
       "      <td>1</td>\n",
       "      <td>Wii Sports</td>\n",
       "      <td>Wii</td>\n",
       "      <td>2006.0</td>\n",
       "      <td>Sports</td>\n",
       "      <td>Nintendo</td>\n",
       "      <td>41.49</td>\n",
       "      <td>29.02</td>\n",
       "      <td>3.77</td>\n",
       "      <td>8.46</td>\n",
       "      <td>82.74</td>\n",
       "      <td>0.045564</td>\n",
       "      <td>0.501450</td>\n",
       "      <td>0.350737</td>\n",
       "    </tr>\n",
       "    <tr>\n",
       "      <th>1</th>\n",
       "      <td>1</td>\n",
       "      <td>2</td>\n",
       "      <td>Super Mario Bros.</td>\n",
       "      <td>NES</td>\n",
       "      <td>1985.0</td>\n",
       "      <td>Platform</td>\n",
       "      <td>Nintendo</td>\n",
       "      <td>29.08</td>\n",
       "      <td>3.58</td>\n",
       "      <td>6.81</td>\n",
       "      <td>0.77</td>\n",
       "      <td>40.24</td>\n",
       "      <td>0.169235</td>\n",
       "      <td>0.722664</td>\n",
       "      <td>0.088966</td>\n",
       "    </tr>\n",
       "    <tr>\n",
       "      <th>2</th>\n",
       "      <td>2</td>\n",
       "      <td>3</td>\n",
       "      <td>Mario Kart Wii</td>\n",
       "      <td>Wii</td>\n",
       "      <td>2008.0</td>\n",
       "      <td>Racing</td>\n",
       "      <td>Nintendo</td>\n",
       "      <td>15.85</td>\n",
       "      <td>12.88</td>\n",
       "      <td>3.79</td>\n",
       "      <td>3.31</td>\n",
       "      <td>35.83</td>\n",
       "      <td>0.105777</td>\n",
       "      <td>0.442367</td>\n",
       "      <td>0.359475</td>\n",
       "    </tr>\n",
       "    <tr>\n",
       "      <th>3</th>\n",
       "      <td>3</td>\n",
       "      <td>4</td>\n",
       "      <td>Wii Sports Resort</td>\n",
       "      <td>Wii</td>\n",
       "      <td>2009.0</td>\n",
       "      <td>Sports</td>\n",
       "      <td>Nintendo</td>\n",
       "      <td>15.75</td>\n",
       "      <td>11.01</td>\n",
       "      <td>3.28</td>\n",
       "      <td>2.96</td>\n",
       "      <td>33.00</td>\n",
       "      <td>0.099394</td>\n",
       "      <td>0.477273</td>\n",
       "      <td>0.333636</td>\n",
       "    </tr>\n",
       "    <tr>\n",
       "      <th>4</th>\n",
       "      <td>4</td>\n",
       "      <td>5</td>\n",
       "      <td>Pokemon Red/Pokemon Blue</td>\n",
       "      <td>GB</td>\n",
       "      <td>1996.0</td>\n",
       "      <td>Role-Playing</td>\n",
       "      <td>Nintendo</td>\n",
       "      <td>11.27</td>\n",
       "      <td>8.89</td>\n",
       "      <td>10.22</td>\n",
       "      <td>1.00</td>\n",
       "      <td>31.38</td>\n",
       "      <td>0.325685</td>\n",
       "      <td>0.359146</td>\n",
       "      <td>0.283301</td>\n",
       "    </tr>\n",
       "    <tr>\n",
       "      <th>...</th>\n",
       "      <td>...</td>\n",
       "      <td>...</td>\n",
       "      <td>...</td>\n",
       "      <td>...</td>\n",
       "      <td>...</td>\n",
       "      <td>...</td>\n",
       "      <td>...</td>\n",
       "      <td>...</td>\n",
       "      <td>...</td>\n",
       "      <td>...</td>\n",
       "      <td>...</td>\n",
       "      <td>...</td>\n",
       "      <td>...</td>\n",
       "      <td>...</td>\n",
       "      <td>...</td>\n",
       "    </tr>\n",
       "    <tr>\n",
       "      <th>16593</th>\n",
       "      <td>16593</td>\n",
       "      <td>16596</td>\n",
       "      <td>Woody Woodpecker in Crazy Castle 5</td>\n",
       "      <td>GBA</td>\n",
       "      <td>2002.0</td>\n",
       "      <td>Platform</td>\n",
       "      <td>Kemco</td>\n",
       "      <td>0.01</td>\n",
       "      <td>0.00</td>\n",
       "      <td>0.00</td>\n",
       "      <td>0.00</td>\n",
       "      <td>0.01</td>\n",
       "      <td>0.000000</td>\n",
       "      <td>1.000000</td>\n",
       "      <td>0.000000</td>\n",
       "    </tr>\n",
       "    <tr>\n",
       "      <th>16594</th>\n",
       "      <td>16594</td>\n",
       "      <td>16597</td>\n",
       "      <td>Men in Black II: Alien Escape</td>\n",
       "      <td>GC</td>\n",
       "      <td>2003.0</td>\n",
       "      <td>Shooter</td>\n",
       "      <td>Infogrames</td>\n",
       "      <td>0.01</td>\n",
       "      <td>0.00</td>\n",
       "      <td>0.00</td>\n",
       "      <td>0.00</td>\n",
       "      <td>0.01</td>\n",
       "      <td>0.000000</td>\n",
       "      <td>1.000000</td>\n",
       "      <td>0.000000</td>\n",
       "    </tr>\n",
       "    <tr>\n",
       "      <th>16595</th>\n",
       "      <td>16595</td>\n",
       "      <td>16598</td>\n",
       "      <td>SCORE International Baja 1000: The Official Game</td>\n",
       "      <td>PS2</td>\n",
       "      <td>2008.0</td>\n",
       "      <td>Racing</td>\n",
       "      <td>Activision</td>\n",
       "      <td>0.00</td>\n",
       "      <td>0.00</td>\n",
       "      <td>0.00</td>\n",
       "      <td>0.00</td>\n",
       "      <td>0.00</td>\n",
       "      <td>NaN</td>\n",
       "      <td>NaN</td>\n",
       "      <td>NaN</td>\n",
       "    </tr>\n",
       "    <tr>\n",
       "      <th>16596</th>\n",
       "      <td>16596</td>\n",
       "      <td>16599</td>\n",
       "      <td>Know How 2</td>\n",
       "      <td>DS</td>\n",
       "      <td>2010.0</td>\n",
       "      <td>Puzzle</td>\n",
       "      <td>7G//AMES</td>\n",
       "      <td>0.00</td>\n",
       "      <td>0.01</td>\n",
       "      <td>0.00</td>\n",
       "      <td>0.00</td>\n",
       "      <td>0.01</td>\n",
       "      <td>0.000000</td>\n",
       "      <td>0.000000</td>\n",
       "      <td>1.000000</td>\n",
       "    </tr>\n",
       "    <tr>\n",
       "      <th>16597</th>\n",
       "      <td>16597</td>\n",
       "      <td>16600</td>\n",
       "      <td>Spirits &amp; Spells</td>\n",
       "      <td>GBA</td>\n",
       "      <td>2003.0</td>\n",
       "      <td>Platform</td>\n",
       "      <td>Wanadoo</td>\n",
       "      <td>0.01</td>\n",
       "      <td>0.00</td>\n",
       "      <td>0.00</td>\n",
       "      <td>0.00</td>\n",
       "      <td>0.01</td>\n",
       "      <td>0.000000</td>\n",
       "      <td>1.000000</td>\n",
       "      <td>0.000000</td>\n",
       "    </tr>\n",
       "  </tbody>\n",
       "</table>\n",
       "<p>16598 rows × 15 columns</p>\n",
       "</div>"
      ],
      "text/plain": [
       "       Unnamed: 0   Rank                                              Name  \\\n",
       "0               0      1                                        Wii Sports   \n",
       "1               1      2                                 Super Mario Bros.   \n",
       "2               2      3                                    Mario Kart Wii   \n",
       "3               3      4                                 Wii Sports Resort   \n",
       "4               4      5                          Pokemon Red/Pokemon Blue   \n",
       "...           ...    ...                                               ...   \n",
       "16593       16593  16596                Woody Woodpecker in Crazy Castle 5   \n",
       "16594       16594  16597                     Men in Black II: Alien Escape   \n",
       "16595       16595  16598  SCORE International Baja 1000: The Official Game   \n",
       "16596       16596  16599                                        Know How 2   \n",
       "16597       16597  16600                                  Spirits & Spells   \n",
       "\n",
       "      Platform    Year         Genre   Publisher  NA_Sales  EU_Sales  \\\n",
       "0          Wii  2006.0        Sports    Nintendo     41.49     29.02   \n",
       "1          NES  1985.0      Platform    Nintendo     29.08      3.58   \n",
       "2          Wii  2008.0        Racing    Nintendo     15.85     12.88   \n",
       "3          Wii  2009.0        Sports    Nintendo     15.75     11.01   \n",
       "4           GB  1996.0  Role-Playing    Nintendo     11.27      8.89   \n",
       "...        ...     ...           ...         ...       ...       ...   \n",
       "16593      GBA  2002.0      Platform       Kemco      0.01      0.00   \n",
       "16594       GC  2003.0       Shooter  Infogrames      0.01      0.00   \n",
       "16595      PS2  2008.0        Racing  Activision      0.00      0.00   \n",
       "16596       DS  2010.0        Puzzle    7G//AMES      0.00      0.01   \n",
       "16597      GBA  2003.0      Platform     Wanadoo      0.01      0.00   \n",
       "\n",
       "       JP_Sales  Other_Sales  Global_Sales  Percentage_JP  Percentage_NA  \\\n",
       "0          3.77         8.46         82.74       0.045564       0.501450   \n",
       "1          6.81         0.77         40.24       0.169235       0.722664   \n",
       "2          3.79         3.31         35.83       0.105777       0.442367   \n",
       "3          3.28         2.96         33.00       0.099394       0.477273   \n",
       "4         10.22         1.00         31.38       0.325685       0.359146   \n",
       "...         ...          ...           ...            ...            ...   \n",
       "16593      0.00         0.00          0.01       0.000000       1.000000   \n",
       "16594      0.00         0.00          0.01       0.000000       1.000000   \n",
       "16595      0.00         0.00          0.00            NaN            NaN   \n",
       "16596      0.00         0.00          0.01       0.000000       0.000000   \n",
       "16597      0.00         0.00          0.01       0.000000       1.000000   \n",
       "\n",
       "       Percentage_EU  \n",
       "0           0.350737  \n",
       "1           0.088966  \n",
       "2           0.359475  \n",
       "3           0.333636  \n",
       "4           0.283301  \n",
       "...              ...  \n",
       "16593       0.000000  \n",
       "16594       0.000000  \n",
       "16595            NaN  \n",
       "16596       1.000000  \n",
       "16597       0.000000  \n",
       "\n",
       "[16598 rows x 15 columns]"
      ]
     },
     "execution_count": 104,
     "metadata": {},
     "output_type": "execute_result"
    }
   ],
   "source": [
    "t = time.process_time()\n",
    "def percentage(line):\n",
    "    if line.Global_Sales > 0:\n",
    "        return {\"Percentage_JP\": line.JP_Sales/line.Global_Sales, \"Percentage_NA\": line.NA_Sales/line.Global_Sales, \"Percentage_EU\":line.EU_Sales/line.Global_Sales}\n",
    "\n",
    "data2 = df.copy()\n",
    "result= data2.apply(percentage, axis=1, result_type=\"expand\")\n",
    "data2 = data2.join(result)\n",
    "print(time.process_time() - t)\n",
    "data2"
   ]
  },
  {
   "cell_type": "markdown",
   "metadata": {},
   "source": [
    "#### 3. What are the mean sales value per games producer company"
   ]
  },
  {
   "cell_type": "code",
   "execution_count": 105,
   "metadata": {},
   "outputs": [
    {
     "name": "stdout",
     "output_type": "stream",
     "text": [
      "0.6478236130867703\n",
      "1.161977240398293\n",
      "0.5956472261735423\n"
     ]
    }
   ],
   "source": [
    "## For nintendo for instance\n",
    "data1 = df.copy()\n",
    "nintendo = data1[data1.Publisher == \"Nintendo\"]\n",
    "\n",
    "japan = nintendo.JP_Sales.mean()\n",
    "print(japan)\n",
    "americ = nintendo.NA_Sales.mean()\n",
    "print(americ)\n",
    "europe = nintendo.EU_Sales.mean()\n",
    "print(europe)"
   ]
  },
  {
   "cell_type": "markdown",
   "metadata": {},
   "source": [
    "Apply"
   ]
  },
  {
   "cell_type": "code",
   "execution_count": 106,
   "metadata": {},
   "outputs": [
    {
     "name": "stdout",
     "output_type": "stream",
     "text": [
      "0.005186000000009017\n",
      "JP_Sales    0.647824\n",
      "NA_Sales    1.161977\n",
      "EU_Sales    0.595647\n",
      "dtype: float64\n"
     ]
    }
   ],
   "source": [
    "t = time.process_time()\n",
    "def my_mean(data):\n",
    "    return data.mean()\n",
    "\n",
    "mean_vals = nintendo[[\"JP_Sales\", \"NA_Sales\", \"EU_Sales\"]].apply(my_mean)\n",
    "print(time.process_time() - t)\n",
    "print(mean_vals)"
   ]
  },
  {
   "cell_type": "markdown",
   "metadata": {},
   "source": [
    "Agg"
   ]
  },
  {
   "cell_type": "code",
   "execution_count": 109,
   "metadata": {},
   "outputs": [
    {
     "data": {
      "text/html": [
       "<div>\n",
       "<style scoped>\n",
       "    .dataframe tbody tr th:only-of-type {\n",
       "        vertical-align: middle;\n",
       "    }\n",
       "\n",
       "    .dataframe tbody tr th {\n",
       "        vertical-align: top;\n",
       "    }\n",
       "\n",
       "    .dataframe thead th {\n",
       "        text-align: right;\n",
       "    }\n",
       "</style>\n",
       "<table border=\"1\" class=\"dataframe\">\n",
       "  <thead>\n",
       "    <tr style=\"text-align: right;\">\n",
       "      <th></th>\n",
       "      <th>NA_Sales</th>\n",
       "      <th>JP_Sales</th>\n",
       "      <th>EU_Sales</th>\n",
       "    </tr>\n",
       "  </thead>\n",
       "  <tbody>\n",
       "    <tr>\n",
       "      <th>count</th>\n",
       "      <td>NaN</td>\n",
       "      <td>703.000000</td>\n",
       "      <td>NaN</td>\n",
       "    </tr>\n",
       "    <tr>\n",
       "      <th>max</th>\n",
       "      <td>NaN</td>\n",
       "      <td>10.220000</td>\n",
       "      <td>NaN</td>\n",
       "    </tr>\n",
       "    <tr>\n",
       "      <th>mean</th>\n",
       "      <td>1.161977</td>\n",
       "      <td>0.647824</td>\n",
       "      <td>0.595647</td>\n",
       "    </tr>\n",
       "    <tr>\n",
       "      <th>min</th>\n",
       "      <td>NaN</td>\n",
       "      <td>0.000000</td>\n",
       "      <td>NaN</td>\n",
       "    </tr>\n",
       "    <tr>\n",
       "      <th>sum</th>\n",
       "      <td>NaN</td>\n",
       "      <td>455.420000</td>\n",
       "      <td>NaN</td>\n",
       "    </tr>\n",
       "    <tr>\n",
       "      <th>value</th>\n",
       "      <td>NaN</td>\n",
       "      <td>3.770000</td>\n",
       "      <td>NaN</td>\n",
       "    </tr>\n",
       "  </tbody>\n",
       "</table>\n",
       "</div>"
      ],
      "text/plain": [
       "       NA_Sales    JP_Sales  EU_Sales\n",
       "count       NaN  703.000000       NaN\n",
       "max         NaN   10.220000       NaN\n",
       "mean   1.161977    0.647824  0.595647\n",
       "min         NaN    0.000000       NaN\n",
       "sum         NaN  455.420000       NaN\n",
       "value       NaN    3.770000       NaN"
      ]
     },
     "execution_count": 109,
     "metadata": {},
     "output_type": "execute_result"
    }
   ],
   "source": [
    "t = time.process_time()\n",
    "def value(column):\n",
    "    return column[0]\n",
    "    \n",
    "nintendo.agg({\"NA_Sales\": \"mean\", \"JP_Sales\": [\"mean\", \"min\", \"max\", \"sum\", \"count\", value], \"EU_Sales\": [\"mean\"]})\n"
   ]
  },
  {
   "cell_type": "markdown",
   "metadata": {},
   "source": [
    "TODO: Use groupby to calculate the mean value per Publisher"
   ]
  },
  {
   "cell_type": "code",
   "execution_count": null,
   "metadata": {},
   "outputs": [],
   "source": []
  }
 ],
 "metadata": {
  "kernelspec": {
   "display_name": "Python 3",
   "language": "python",
   "name": "python3"
  },
  "language_info": {
   "codemirror_mode": {
    "name": "ipython",
    "version": 3
   },
   "file_extension": ".py",
   "mimetype": "text/x-python",
   "name": "python",
   "nbconvert_exporter": "python",
   "pygments_lexer": "ipython3",
   "version": "3.7.3"
  }
 },
 "nbformat": 4,
 "nbformat_minor": 2
}
